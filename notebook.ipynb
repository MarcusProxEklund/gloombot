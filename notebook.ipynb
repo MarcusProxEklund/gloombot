{
 "cells": [
  {
   "cell_type": "markdown",
   "metadata": {},
   "source": [
    "# **Gloomhaven: Jaws of the Lion chatbot**\n",
    "\n",
    "A RAG chatbot for the boardgame Gloomhaven: Jaws of the Lion."
   ]
  },
  {
   "cell_type": "markdown",
   "metadata": {},
   "source": [
    "### Setting up environment"
   ]
  },
  {
   "cell_type": "code",
   "execution_count": 1,
   "metadata": {},
   "outputs": [],
   "source": [
    "import fitz\n",
    "import os\n",
    "import numpy as np\n",
    "import json\n",
    "import openai"
   ]
  },
  {
   "cell_type": "markdown",
   "metadata": {},
   "source": [
    "### Extracting text from a PDF file\n",
    "$$\\text{(!!!!!Should be in separate .py file!!!!!)}$$"
   ]
  },
  {
   "cell_type": "code",
   "execution_count": null,
   "metadata": {},
   "outputs": [],
   "source": [
    "def extract_text_from_pdf(pdf_path):\n",
    "    \"\"\"\n",
    "    Extracts text from a PDF file.\n",
    "\n",
    "    Args:\n",
    "    pdf_path (str): Path to the PDF file.\n",
    "\n",
    "    Returns:\n",
    "    str: Extracted text from the PDF.\n",
    "    \"\"\"\n",
    "    # Open the PDF file\n",
    "    mypdf = fitz.open(pdf_path)\n",
    "    all_text = \"\"  # Initialize an empty string to store the extracted text\n",
    "    \n",
    "    # Iterate through each page in the PDF\n",
    "    for page in mypdf:\n",
    "        # Extract text from the current page and add spacing\n",
    "        all_text += page.get_text(\"text\") + \" \"\n",
    "\n",
    "    # Return the extracted text, stripped of leading/trailing whitespace\n",
    "    return all_text.strip()"
   ]
  },
  {
   "cell_type": "code",
   "execution_count": null,
   "metadata": {},
   "outputs": [],
   "source": [
    "# Define the path to the PDF file\n",
    "pdf_path = \"data/gloomhaven_jotl_glossary.pdf\"\n",
    "\n",
    "# Extract text from the PDF file\n",
    "extracted_text = extract_text_from_pdf(pdf_path)\n",
    "\n",
    "# Print the first 500 characters of the extracted text\n",
    "print(extracted_text[:500])"
   ]
  },
  {
   "cell_type": "markdown",
   "metadata": {},
   "source": [
    "### Loading environment variables and initializing OpenAI API client"
   ]
  },
  {
   "cell_type": "code",
   "execution_count": null,
   "metadata": {},
   "outputs": [],
   "source": [
    "from dotenv import load_dotenv\n",
    "\n",
    "# Load the environment variables from the .env file\n",
    "load_dotenv()\n",
    "\n",
    "# Initialize the OpenAI API client\n",
    "client = openai.OpenAI()"
   ]
  },
  {
   "cell_type": "markdown",
   "metadata": {},
   "source": [
    "### Create Sentence-Level Embeddings\n",
    "$$\\text{(!!!!!Should be in separate .py file!!!!!)}$$"
   ]
  },
  {
   "cell_type": "code",
   "execution_count": null,
   "metadata": {},
   "outputs": [],
   "source": [
    "def get_embedding(text, model=\"text-embedding-3-small\"):\n",
    "    \"\"\"\n",
    "    Creates an embedding for the given text using OpenAI.\n",
    "\n",
    "    Args:\n",
    "    text (str): Input text.\n",
    "    model (str): Embedding model name.\n",
    "\n",
    "    Returns:\n",
    "    np.ndarray: The embedding vector.\n",
    "    \"\"\"\n",
    "    response = client.embeddings.create(model=model, input=text)\n",
    "    return np.array(response.data[0].embedding)"
   ]
  },
  {
   "cell_type": "code",
   "execution_count": null,
   "metadata": {},
   "outputs": [],
   "source": [
    "# Splitting text into sentences (basic split)\n",
    "sentences = extracted_text.split(\". \")\n",
    "\n",
    "# Generate embeddings for each sentence\n",
    "embeddings = [get_embedding(sentence) for sentence in sentences]\n",
    "\n",
    "print(f\"Generated {len(embeddings)} sentence embeddings.\")"
   ]
  },
  {
   "cell_type": "markdown",
   "metadata": {},
   "source": [
    "### Calculate Similarity Differences\n",
    "$$\\text{(!!!!!Should be in separate .py file!!!!!)}$$"
   ]
  },
  {
   "cell_type": "code",
   "execution_count": null,
   "metadata": {},
   "outputs": [],
   "source": [
    "def cosine_similarity(vec1, vec2):\n",
    "    \"\"\"\n",
    "    Computes cosine similarity between two vectors.\n",
    "\n",
    "    Args:\n",
    "    vec1 (np.ndarray): First vector.\n",
    "    vec2 (np.ndarray): Second vector.\n",
    "\n",
    "    Returns:\n",
    "    float: Cosine similarity.\n",
    "    \"\"\"\n",
    "    return np.dot(vec1, vec2) / (np.linalg.norm(vec1) * np.linalg.norm(vec2))"
   ]
  },
  {
   "cell_type": "code",
   "execution_count": null,
   "metadata": {},
   "outputs": [],
   "source": [
    "# Compute similarity between consecutive sentences\n",
    "similarities = [cosine_similarity(embeddings[i], embeddings[i + 1]) for i in range(len(embeddings) - 1)]"
   ]
  },
  {
   "cell_type": "markdown",
   "metadata": {},
   "source": [
    "### Implement Semantic Chunking\n",
    "$$\\text{(!!!!!Should be in separate .py file!!!!!)}$$"
   ]
  },
  {
   "cell_type": "code",
   "execution_count": null,
   "metadata": {},
   "outputs": [],
   "source": [
    "def compute_breakpoints(similarities, method=\"percentile\", threshold=90):\n",
    "    \"\"\"\n",
    "    Computes chunking breakpoints based on similarity drops.\n",
    "\n",
    "    Args:\n",
    "    similarities (List[float]): List of similarity scores between sentences.\n",
    "    method (str): 'percentile', 'standard_deviation', or 'interquartile'.\n",
    "    threshold (float): Threshold value (percentile for 'percentile', std devs for 'standard_deviation').\n",
    "\n",
    "    Returns:\n",
    "    List[int]: Indices where chunk splits should occur.\n",
    "    \"\"\"\n",
    "    # Determine the threshold value based on the selected method\n",
    "    if method == \"percentile\":\n",
    "        # Calculate the Xth percentile of the similarity scores\n",
    "        threshold_value = np.percentile(similarities, threshold)\n",
    "    elif method == \"standard_deviation\":\n",
    "        # Calculate the mean and standard deviation of the similarity scores\n",
    "        mean = np.mean(similarities)\n",
    "        std_dev = np.std(similarities)\n",
    "        # Set the threshold value to mean minus X standard deviations\n",
    "        threshold_value = mean - (threshold * std_dev)\n",
    "    elif method == \"interquartile\":\n",
    "        # Calculate the first and third quartiles (Q1 and Q3)\n",
    "        q1, q3 = np.percentile(similarities, [25, 75])\n",
    "        # Set the threshold value using the IQR rule for outliers\n",
    "        threshold_value = q1 - 1.5 * (q3 - q1)\n",
    "    else:\n",
    "        # Raise an error if an invalid method is provided\n",
    "        raise ValueError(\"Invalid method. Choose 'percentile', 'standard_deviation', or 'interquartile'.\")\n",
    "\n",
    "    # Identify indices where similarity drops below the threshold value\n",
    "    return [i for i, sim in enumerate(similarities) if sim < threshold_value]"
   ]
  },
  {
   "cell_type": "code",
   "execution_count": null,
   "metadata": {},
   "outputs": [],
   "source": [
    "# Compute breakpoints using the percentile method with a threshold of 90\n",
    "breakpoints = compute_breakpoints(similarities, method=\"percentile\", threshold=90)"
   ]
  },
  {
   "cell_type": "markdown",
   "metadata": {},
   "source": [
    "### Split Text Into Semantic Chunks\n",
    "$$\\text{(!!!!!Should be in separate .py file!!!!!)}$$"
   ]
  },
  {
   "cell_type": "code",
   "execution_count": null,
   "metadata": {},
   "outputs": [],
   "source": [
    "def split_into_chunks(sentences, breakpoints):\n",
    "    \"\"\"\n",
    "    Splits sentences into semantic chunks.\n",
    "\n",
    "    Args:\n",
    "    sentences (List[str]): List of sentences.\n",
    "    breakpoints (List[int]): Indices where chunking should occur.\n",
    "\n",
    "    Returns:\n",
    "    List[str]: List of text chunks.\n",
    "    \"\"\"\n",
    "    chunks = []  # Initialize an empty list to store the chunks\n",
    "    start = 0  # Initialize the start index\n",
    "\n",
    "    # Iterate through each breakpoint to create chunks\n",
    "    for bp in breakpoints:\n",
    "        # Append the chunk of sentences from start to the current breakpoint\n",
    "        chunks.append(\". \".join(sentences[start:bp + 1]) + \".\")\n",
    "        start = bp + 1  # Update the start index to the next sentence after the breakpoint\n",
    "\n",
    "    # Append the remaining sentences as the last chunk\n",
    "    chunks.append(\". \".join(sentences[start:]))\n",
    "    return chunks  # Return the list of chunks"
   ]
  },
  {
   "cell_type": "code",
   "execution_count": null,
   "metadata": {},
   "outputs": [],
   "source": [
    "# Create chunks using the split_into_chunks function\n",
    "text_chunks = split_into_chunks(sentences, breakpoints)\n",
    "\n",
    "# Print the number of chunks created\n",
    "print(f\"Number of semantic chunks: {len(text_chunks)}\")\n",
    "\n",
    "# Print the first chunk to verify the result\n",
    "print(\"\\nFirst text chunk:\")\n",
    "print(text_chunks[0])"
   ]
  },
  {
   "cell_type": "markdown",
   "metadata": {},
   "source": [
    "### Create Embeddings for Semantic Chunks\n",
    "$$\\text{(!!!!!Should be in separate .py file!!!!!)}$$"
   ]
  },
  {
   "cell_type": "code",
   "execution_count": null,
   "metadata": {},
   "outputs": [],
   "source": [
    "def create_embeddings(text_chunks):\n",
    "    \"\"\"\n",
    "    Creates embeddings for each text chunk.\n",
    "\n",
    "    Args:\n",
    "    text_chunks (List[str]): List of text chunks.\n",
    "\n",
    "    Returns:\n",
    "    List[np.ndarray]: List of embedding vectors.\n",
    "    \"\"\"\n",
    "    # Generate embeddings for each text chunk using the get_embedding function\n",
    "    return [get_embedding(chunk) for chunk in text_chunks]"
   ]
  },
  {
   "cell_type": "code",
   "execution_count": null,
   "metadata": {},
   "outputs": [],
   "source": [
    "# Create chunk embeddings using the create_embeddings function\n",
    "chunk_embeddings = create_embeddings(text_chunks)"
   ]
  },
  {
   "cell_type": "markdown",
   "metadata": {},
   "source": [
    "### Semantic Search\n",
    "$$\\text{(!!!!!Should be in separate .py file!!!!!)}$$"
   ]
  },
  {
   "cell_type": "code",
   "execution_count": null,
   "metadata": {},
   "outputs": [],
   "source": [
    "def semantic_search(query, text_chunks, chunk_embeddings, k=5):\n",
    "    \"\"\"\n",
    "    Finds the most relevant text chunks for a query.\n",
    "\n",
    "    Args:\n",
    "    query (str): Search query.\n",
    "    text_chunks (List[str]): List of text chunks.\n",
    "    chunk_embeddings (List[np.ndarray]): List of chunk embeddings.\n",
    "    k (int): Number of top results to return.\n",
    "\n",
    "    Returns:\n",
    "    List[str]: Top-k relevant chunks.\n",
    "    \"\"\"\n",
    "    # Generate an embedding for the query\n",
    "    query_embedding = get_embedding(query)\n",
    "    \n",
    "    # Calculate cosine similarity between the query embedding and each chunk embedding\n",
    "    similarities = [cosine_similarity(query_embedding, emb) for emb in chunk_embeddings]\n",
    "    \n",
    "    # Get the indices of the top-k most similar chunks\n",
    "    top_indices = np.argsort(similarities)[-k:][::-1]\n",
    "    \n",
    "    # Return the top-k most relevant text chunks\n",
    "    return [text_chunks[i] for i in top_indices]"
   ]
  },
  {
   "cell_type": "code",
   "execution_count": null,
   "metadata": {},
   "outputs": [],
   "source": [
    "# Load the validation data from a JSON file\n",
    "with open('data/validation_data.json') as f:\n",
    "    data = json.load(f)\n",
    "\n",
    "# Extract the first query from the validation data\n",
    "query = data[0]['question']\n",
    "\n",
    "# Get top 2 relevant chunks\n",
    "top_chunks = semantic_search(query, text_chunks, chunk_embeddings, k=3)\n",
    "\n",
    "# Print the query\n",
    "print(f\"Query: {query}\")\n",
    "\n",
    "# Print the top 2 most relevant text chunks\n",
    "for i, chunk in enumerate(top_chunks):\n",
    "    print(f\"Context {i+1}:\\n{chunk}\\n{'='*40}\")"
   ]
  },
  {
   "cell_type": "markdown",
   "metadata": {},
   "source": [
    "### Generate a response based on retrieved chunks\n",
    "$$\\text{(!!!!!Should be in separate .py file!!!!!)}$$"
   ]
  },
  {
   "cell_type": "code",
   "execution_count": null,
   "metadata": {},
   "outputs": [],
   "source": [
    "# Define the system prompt for the AI assistant\n",
    "system_prompt = \"You are an AI assistant that strictly answers based on the given context. If the answer cannot be derived directly from the provided context, respond with: 'I do not have enough information to answer that.'\"\n",
    "\n",
    "def generate_response(system_prompt, user_message, model=\"gpt-4o-mini-2024-07-18\"):\n",
    "    \"\"\"\n",
    "    Generates a response from the AI model based on the system prompt and user message.\n",
    "\n",
    "    Args:\n",
    "    system_prompt (str): The system prompt to guide the AI's behavior.\n",
    "    user_message (str): The user's message or query.\n",
    "    model (str): The model to be used for generating the response. Default is \"gpt-4o-mini-2024-07-18\".\n",
    "\n",
    "    Returns:\n",
    "    dict: The response from the AI model.\n",
    "    \"\"\"\n",
    "    response = client.chat.completions.create(\n",
    "        model=model,\n",
    "        temperature=0,\n",
    "        messages=[\n",
    "            {\"role\": \"system\", \"content\": system_prompt},\n",
    "            {\"role\": \"user\", \"content\": user_message}\n",
    "        ]\n",
    "    )\n",
    "    return response\n",
    "\n",
    "# Create the user prompt based on the top chunks\n",
    "user_prompt = \"\\n\".join([f\"Context {i + 1}:\\n{chunk}\\n=====================================\\n\" for i, chunk in enumerate(top_chunks)])\n",
    "user_prompt = f\"{user_prompt}\\nQuestion: {query}\"\n",
    "\n",
    "# Generate AI response\n",
    "ai_response = generate_response(system_prompt, user_prompt)"
   ]
  },
  {
   "cell_type": "code",
   "execution_count": null,
   "metadata": {},
   "outputs": [],
   "source": [
    "ai_response.choices[0].message.content"
   ]
  },
  {
   "cell_type": "code",
   "execution_count": 2,
   "metadata": {},
   "outputs": [
    {
     "data": {
      "text/plain": [
       "True"
      ]
     },
     "execution_count": 2,
     "metadata": {},
     "output_type": "execute_result"
    }
   ],
   "source": [
    "from chromadb import PersistentClient\n",
    "from chromadb.config import Settings\n",
    "from sentence_transformers import SentenceTransformer\n",
    "from dotenv import load_dotenv\n",
    "import logging\n",
    "import sys\n",
    "import pdfplumber\n",
    "import os\n",
    "\n",
    "\n",
    "load_dotenv()"
   ]
  },
  {
   "cell_type": "code",
   "execution_count": 3,
   "metadata": {},
   "outputs": [],
   "source": [
    "# enable INFO level logging\n",
    "logging.basicConfig(stream=sys.stdout, level=logging.INFO)\n",
    "logging.getLogger().addHandler(logging.StreamHandler(stream=sys.stdout))\n",
    "\n",
    "# Initialize PersistentClient and load the collection\n",
    "client = PersistentClient(\n",
    "    # Persistent storage path\n",
    "    settings=Settings(anonymized_telemetry=False),\n",
    ")\n"
   ]
  },
  {
   "cell_type": "code",
   "execution_count": null,
   "metadata": {},
   "outputs": [
    {
     "name": "stdout",
     "output_type": "stream",
     "text": [
      "loaded documents with 32 pages\n",
      "INFO:sentence_transformers.SentenceTransformer:Use pytorch device_name: cuda:0\n",
      "Use pytorch device_name: cuda:0\n",
      "INFO:sentence_transformers.SentenceTransformer:Load pretrained SentenceTransformer: all-MiniLM-L6-v2\n",
      "Load pretrained SentenceTransformer: all-MiniLM-L6-v2\n"
     ]
    },
    {
     "data": {
      "application/vnd.jupyter.widget-view+json": {
       "model_id": "f289f5b8ab074fb7a482321ec8e6ced3",
       "version_major": 2,
       "version_minor": 0
      },
      "text/plain": [
       "Batches:   0%|          | 0/1 [00:00<?, ?it/s]"
      ]
     },
     "metadata": {},
     "output_type": "display_data"
    },
    {
     "data": {
      "application/vnd.jupyter.widget-view+json": {
       "model_id": "e7ccbb1bb9bc40c6860bae04f6b65e53",
       "version_major": 2,
       "version_minor": 0
      },
      "text/plain": [
       "Batches:   0%|          | 0/1 [00:00<?, ?it/s]"
      ]
     },
     "metadata": {},
     "output_type": "display_data"
    },
    {
     "data": {
      "application/vnd.jupyter.widget-view+json": {
       "model_id": "de613c7a02f94752bffa94057a7d9188",
       "version_major": 2,
       "version_minor": 0
      },
      "text/plain": [
       "Batches:   0%|          | 0/1 [00:00<?, ?it/s]"
      ]
     },
     "metadata": {},
     "output_type": "display_data"
    },
    {
     "data": {
      "application/vnd.jupyter.widget-view+json": {
       "model_id": "9a20a8f93d064b9dac60f7e03c09a931",
       "version_major": 2,
       "version_minor": 0
      },
      "text/plain": [
       "Batches:   0%|          | 0/1 [00:00<?, ?it/s]"
      ]
     },
     "metadata": {},
     "output_type": "display_data"
    },
    {
     "data": {
      "application/vnd.jupyter.widget-view+json": {
       "model_id": "6a7bd6f1b8ca4f57969e337687de7174",
       "version_major": 2,
       "version_minor": 0
      },
      "text/plain": [
       "Batches:   0%|          | 0/1 [00:00<?, ?it/s]"
      ]
     },
     "metadata": {},
     "output_type": "display_data"
    },
    {
     "data": {
      "application/vnd.jupyter.widget-view+json": {
       "model_id": "43be446d0b9f44acb902caeec3f9f1fa",
       "version_major": 2,
       "version_minor": 0
      },
      "text/plain": [
       "Batches:   0%|          | 0/1 [00:00<?, ?it/s]"
      ]
     },
     "metadata": {},
     "output_type": "display_data"
    },
    {
     "data": {
      "application/vnd.jupyter.widget-view+json": {
       "model_id": "1ecfbe62be684f94b6ec78e370cefc2e",
       "version_major": 2,
       "version_minor": 0
      },
      "text/plain": [
       "Batches:   0%|          | 0/1 [00:00<?, ?it/s]"
      ]
     },
     "metadata": {},
     "output_type": "display_data"
    },
    {
     "data": {
      "application/vnd.jupyter.widget-view+json": {
       "model_id": "2953475af9c644a1b99da9a1ad8fa8fe",
       "version_major": 2,
       "version_minor": 0
      },
      "text/plain": [
       "Batches:   0%|          | 0/1 [00:00<?, ?it/s]"
      ]
     },
     "metadata": {},
     "output_type": "display_data"
    },
    {
     "data": {
      "application/vnd.jupyter.widget-view+json": {
       "model_id": "ef9f91290cdd42828fce4d51e1c35703",
       "version_major": 2,
       "version_minor": 0
      },
      "text/plain": [
       "Batches:   0%|          | 0/1 [00:00<?, ?it/s]"
      ]
     },
     "metadata": {},
     "output_type": "display_data"
    },
    {
     "data": {
      "application/vnd.jupyter.widget-view+json": {
       "model_id": "cc633dfb2f234cb4ac560e3cedad350b",
       "version_major": 2,
       "version_minor": 0
      },
      "text/plain": [
       "Batches:   0%|          | 0/1 [00:00<?, ?it/s]"
      ]
     },
     "metadata": {},
     "output_type": "display_data"
    },
    {
     "data": {
      "application/vnd.jupyter.widget-view+json": {
       "model_id": "e241e907bb1244b3b20b9ae9c4fc5c30",
       "version_major": 2,
       "version_minor": 0
      },
      "text/plain": [
       "Batches:   0%|          | 0/1 [00:00<?, ?it/s]"
      ]
     },
     "metadata": {},
     "output_type": "display_data"
    },
    {
     "data": {
      "application/vnd.jupyter.widget-view+json": {
       "model_id": "b5b2686bc96347e892609fb0d766d66f",
       "version_major": 2,
       "version_minor": 0
      },
      "text/plain": [
       "Batches:   0%|          | 0/1 [00:00<?, ?it/s]"
      ]
     },
     "metadata": {},
     "output_type": "display_data"
    },
    {
     "data": {
      "application/vnd.jupyter.widget-view+json": {
       "model_id": "a6b8089673fa4135a1790fa88d2174c1",
       "version_major": 2,
       "version_minor": 0
      },
      "text/plain": [
       "Batches:   0%|          | 0/1 [00:00<?, ?it/s]"
      ]
     },
     "metadata": {},
     "output_type": "display_data"
    },
    {
     "data": {
      "application/vnd.jupyter.widget-view+json": {
       "model_id": "da3b187405e94e99ac886829f5047312",
       "version_major": 2,
       "version_minor": 0
      },
      "text/plain": [
       "Batches:   0%|          | 0/1 [00:00<?, ?it/s]"
      ]
     },
     "metadata": {},
     "output_type": "display_data"
    },
    {
     "data": {
      "application/vnd.jupyter.widget-view+json": {
       "model_id": "fe545eac5c134016af8188cc01837129",
       "version_major": 2,
       "version_minor": 0
      },
      "text/plain": [
       "Batches:   0%|          | 0/1 [00:00<?, ?it/s]"
      ]
     },
     "metadata": {},
     "output_type": "display_data"
    },
    {
     "data": {
      "application/vnd.jupyter.widget-view+json": {
       "model_id": "ba8e3f314e2d4b5592e0ca34ce327ee8",
       "version_major": 2,
       "version_minor": 0
      },
      "text/plain": [
       "Batches:   0%|          | 0/1 [00:00<?, ?it/s]"
      ]
     },
     "metadata": {},
     "output_type": "display_data"
    },
    {
     "data": {
      "application/vnd.jupyter.widget-view+json": {
       "model_id": "1665007116964704a36efc98161373ed",
       "version_major": 2,
       "version_minor": 0
      },
      "text/plain": [
       "Batches:   0%|          | 0/1 [00:00<?, ?it/s]"
      ]
     },
     "metadata": {},
     "output_type": "display_data"
    },
    {
     "data": {
      "application/vnd.jupyter.widget-view+json": {
       "model_id": "d8bbb2c8f84d4c97ba517ccf37e15064",
       "version_major": 2,
       "version_minor": 0
      },
      "text/plain": [
       "Batches:   0%|          | 0/1 [00:00<?, ?it/s]"
      ]
     },
     "metadata": {},
     "output_type": "display_data"
    },
    {
     "data": {
      "application/vnd.jupyter.widget-view+json": {
       "model_id": "dbf303d043904e25ac67c66cfafce73a",
       "version_major": 2,
       "version_minor": 0
      },
      "text/plain": [
       "Batches:   0%|          | 0/1 [00:00<?, ?it/s]"
      ]
     },
     "metadata": {},
     "output_type": "display_data"
    },
    {
     "data": {
      "application/vnd.jupyter.widget-view+json": {
       "model_id": "5fd8ad5a01c247ffb86f8938b30e99fd",
       "version_major": 2,
       "version_minor": 0
      },
      "text/plain": [
       "Batches:   0%|          | 0/1 [00:00<?, ?it/s]"
      ]
     },
     "metadata": {},
     "output_type": "display_data"
    },
    {
     "data": {
      "application/vnd.jupyter.widget-view+json": {
       "model_id": "7927231ebefd4ed2bad09de0ca7fb20c",
       "version_major": 2,
       "version_minor": 0
      },
      "text/plain": [
       "Batches:   0%|          | 0/1 [00:00<?, ?it/s]"
      ]
     },
     "metadata": {},
     "output_type": "display_data"
    },
    {
     "data": {
      "application/vnd.jupyter.widget-view+json": {
       "model_id": "3ad07461482a4afb92d3cd9dda940b37",
       "version_major": 2,
       "version_minor": 0
      },
      "text/plain": [
       "Batches:   0%|          | 0/1 [00:00<?, ?it/s]"
      ]
     },
     "metadata": {},
     "output_type": "display_data"
    },
    {
     "data": {
      "application/vnd.jupyter.widget-view+json": {
       "model_id": "1ec3a8f328554cb19f2a95ca2078978a",
       "version_major": 2,
       "version_minor": 0
      },
      "text/plain": [
       "Batches:   0%|          | 0/1 [00:00<?, ?it/s]"
      ]
     },
     "metadata": {},
     "output_type": "display_data"
    },
    {
     "data": {
      "application/vnd.jupyter.widget-view+json": {
       "model_id": "bbcc8bd506ad4913934cba248fe5f043",
       "version_major": 2,
       "version_minor": 0
      },
      "text/plain": [
       "Batches:   0%|          | 0/1 [00:00<?, ?it/s]"
      ]
     },
     "metadata": {},
     "output_type": "display_data"
    },
    {
     "data": {
      "application/vnd.jupyter.widget-view+json": {
       "model_id": "c12c38be323745c5a08350e9cb21e44e",
       "version_major": 2,
       "version_minor": 0
      },
      "text/plain": [
       "Batches:   0%|          | 0/1 [00:00<?, ?it/s]"
      ]
     },
     "metadata": {},
     "output_type": "display_data"
    },
    {
     "data": {
      "application/vnd.jupyter.widget-view+json": {
       "model_id": "cee9d3cdcced4f51a0dc71f4e908388f",
       "version_major": 2,
       "version_minor": 0
      },
      "text/plain": [
       "Batches:   0%|          | 0/1 [00:00<?, ?it/s]"
      ]
     },
     "metadata": {},
     "output_type": "display_data"
    },
    {
     "data": {
      "application/vnd.jupyter.widget-view+json": {
       "model_id": "9841ec0ab4244dd3a9769cd490c91126",
       "version_major": 2,
       "version_minor": 0
      },
      "text/plain": [
       "Batches:   0%|          | 0/1 [00:00<?, ?it/s]"
      ]
     },
     "metadata": {},
     "output_type": "display_data"
    },
    {
     "data": {
      "application/vnd.jupyter.widget-view+json": {
       "model_id": "dcd84e0dd56f40a79adc7ce7c7428a22",
       "version_major": 2,
       "version_minor": 0
      },
      "text/plain": [
       "Batches:   0%|          | 0/1 [00:00<?, ?it/s]"
      ]
     },
     "metadata": {},
     "output_type": "display_data"
    },
    {
     "data": {
      "application/vnd.jupyter.widget-view+json": {
       "model_id": "41525abf26f04add8fadb873dbd4b38b",
       "version_major": 2,
       "version_minor": 0
      },
      "text/plain": [
       "Batches:   0%|          | 0/1 [00:00<?, ?it/s]"
      ]
     },
     "metadata": {},
     "output_type": "display_data"
    },
    {
     "data": {
      "application/vnd.jupyter.widget-view+json": {
       "model_id": "2b5d0e6a2c4d4eb88db1a4e19dddc76d",
       "version_major": 2,
       "version_minor": 0
      },
      "text/plain": [
       "Batches:   0%|          | 0/1 [00:00<?, ?it/s]"
      ]
     },
     "metadata": {},
     "output_type": "display_data"
    },
    {
     "data": {
      "application/vnd.jupyter.widget-view+json": {
       "model_id": "fc89a5a686ff4a7facc8d8c7f562956f",
       "version_major": 2,
       "version_minor": 0
      },
      "text/plain": [
       "Batches:   0%|          | 0/1 [00:00<?, ?it/s]"
      ]
     },
     "metadata": {},
     "output_type": "display_data"
    },
    {
     "data": {
      "application/vnd.jupyter.widget-view+json": {
       "model_id": "ea90682d27674070b576ef439c76de08",
       "version_major": 2,
       "version_minor": 0
      },
      "text/plain": [
       "Batches:   0%|          | 0/1 [00:00<?, ?it/s]"
      ]
     },
     "metadata": {},
     "output_type": "display_data"
    },
    {
     "name": "stdout",
     "output_type": "stream",
     "text": [
      "Documents added to the collection.\n"
     ]
    },
    {
     "data": {
      "text/plain": [
       "Collection(name=pdf_knowledge_base)"
      ]
     },
     "execution_count": 8,
     "metadata": {},
     "output_type": "execute_result"
    }
   ],
   "source": [
    "from embedding import create_collection\n",
    "\n",
    "create_collection(\"data/gloomhaven_jotl_glossary.pdf\", \"pdf_knowledge_base\")"
   ]
  },
  {
   "cell_type": "code",
   "execution_count": 4,
   "metadata": {},
   "outputs": [],
   "source": [
    "client.delete_collection(\"pdf_knowledge_base\")"
   ]
  },
  {
   "cell_type": "code",
   "execution_count": 9,
   "metadata": {},
   "outputs": [],
   "source": [
    "collection = client.get_collection(\"pdf_knowledge_base\")"
   ]
  },
  {
   "cell_type": "code",
   "execution_count": 10,
   "metadata": {},
   "outputs": [
    {
     "data": {
      "text/plain": [
       "{'ids': ['gloomhaven_jotl_glossary.pdf_page0_chunk0',\n",
       "  'gloomhaven_jotl_glossary.pdf_page1_chunk0',\n",
       "  'gloomhaven_jotl_glossary.pdf_page2_chunk0',\n",
       "  'gloomhaven_jotl_glossary.pdf_page3_chunk0',\n",
       "  'gloomhaven_jotl_glossary.pdf_page4_chunk0',\n",
       "  'gloomhaven_jotl_glossary.pdf_page5_chunk0',\n",
       "  'gloomhaven_jotl_glossary.pdf_page6_chunk0',\n",
       "  'gloomhaven_jotl_glossary.pdf_page7_chunk0',\n",
       "  'gloomhaven_jotl_glossary.pdf_page8_chunk0',\n",
       "  'gloomhaven_jotl_glossary.pdf_page9_chunk0'],\n",
       " 'embeddings': array([[ 0.00994237,  0.06999014,  0.04512275, ...,  0.06137919,\n",
       "         -0.02622539,  0.0232505 ],\n",
       "        [-0.0528258 ,  0.00037351, -0.0382929 , ...,  0.052201  ,\n",
       "         -0.0660194 ,  0.02395525],\n",
       "        [ 0.04569016, -0.05161281, -0.01472469, ...,  0.03692127,\n",
       "         -0.04215221, -0.00348456],\n",
       "        ...,\n",
       "        [-0.05826703,  0.06269286, -0.0129107 , ...,  0.03717376,\n",
       "          0.06843062,  0.01488748],\n",
       "        [ 0.03915434,  0.06295528, -0.01065911, ..., -0.03293675,\n",
       "         -0.06628162,  0.00268835],\n",
       "        [-0.00319113,  0.00408621, -0.05319905, ..., -0.14892618,\n",
       "         -0.05879465, -0.00355297]], shape=(10, 384)),\n",
       " 'documents': ['− Stop! −\\nIf you are opening the box for the first time and want to learn\\nhow to play the game, please read the “Learn to Play Guide”.\\nThis document should not be used to learn to play. It should be\\nused to reference rules as the need arises.\\nGlossary\\nMost of this document consists of a Glossary of game terms\\nin alphabetical order for ease of reference (p. 2-21).\\nThe last section contains six appendices:\\nCard Anatomy (p. 22): Monster Turns (p. 26):\\nA B\\nProvides a breakdown of the A detailed summary of how\\nanatomy for every type of card monsters take their turns\\nin the game. with illustrated examples.\\nComponents List (p. 28): Component Integration (p. 30):\\nC D\\nAn accounting of all the Explains what components\\ncomponents in the box. of this game can be used in the\\nlarger Gloomhaven game.\\nE Treasure Index (p. 31): F “Misplaced Goods” Index (p. 31):\\nAn index referenced any time A chart used specifically in the\\na numbered treasure tile in a scenario “Misplaced Goods”.\\nscenario is looted. Reference only when directed.\\nUniversal Rule: Players Decide Ambiguity\\nWe will first emphasize one important universal Ambiguity can typically arise when resolving a\\nrule that should always be remembered: players monster’s turn. The most common example is\\ndecide ambiguity. If players ever arrive at a movement. In order to reach its focus, a monster\\nsituation where there are two or more equally may have two or more equally viable paths to take\\nviable outcomes, and the rules offer no definitive that are of equal length. Players should decide\\nanswer on which outcome should happen, players exactly which hexes the monster moves through\\nshould decide among themselves what happens. in this case.',\n",
       "  'Glossary\\n\\uf086 A (Level) \\uf086 Ability Card (Character)\\nCharacter ability cards designated as level “A” are used All characters have a deck of character ability cards\\nto play the first three scenarios in the campaign. Each which are used during a scenario to represent stamina,\\ncharacter starts Scenario 1 with 6 level “A” cards. Two perform actions, or negate damage. All characters begin\\nare replaced with level “B” cards at the end of Scenario 1, each scenario with a number of cards equal to their\\nand all “A” and “B” cards are replaced by a character’s hand limit, shown at the top right of their character mat.\\nfull hand of level “1” cards at the end of Scenario 3. These cards are selected from a character’s larger pool\\nof cards. All selected cards are in the character’s hand at\\nthe start of a scenario.\\nUnless the character is exhausted or declares a long\\nrest, two cards are selected at the start of every round,\\nwith one chosen to be the initiative card. When it is a\\nCards labeled “A”\\ncharacter’s turn, based on the initiative value of their\\n\\uf086 Ability initiative card, both cards are played, one after the other\\nin either order, with one being used for its top action and\\nAn ability is a single process that a figure performs, the other being used for its bottom action.\\nusually on their turn. Abilities are what make up an\\naction, which may consist of a single ability or multiple When played, ability cards are either moved to\\nabilities. In the case of the latter, each individual ability the character’s discard pile, active area, or lost\\nof the action will be separated by an ability card line. pile, depending on the action performed. Cards in\\nA targeted ability must have at least one valid target in a character’s discard can be moved back into the\\norder to be performed. The following are different types character’s hand through resting.\\nof abilities:\\n\\uf086 Ability Card (Monster)\\n\\x93 Attack (see p. 3)\\nEach monster set has a deck of\\n\\x93 Condition (see p. 6)\\neight ability cards that monsters\\n\\x93 Destroy Obstacle (see p. 7) use to perform actions. Every\\n\\x93 Grant Action (see p. 10) round, after characters have chosen\\nBasic Vermling Raider\\nBasic Vermling Raider and revealed their two ability\\n\\x93 Heal (see p. 11)\\ncards, one monster ability card\\n\\x93 Loot (see p. 14) is played for each monster set currently on the map.\\nThese cards determine the monster’s initiative for the\\n\\x93 Move (see p. 15)\\nround and what specific abilities it will perform, in the\\n\\x93 Persistent (see p. 16) order written. Each monster in a set will act out its own\\n\\x93 Push & Pull (see p. 17) entire turn separately, one after the other, starting with\\nelite monsters in numerical standee order, followed by\\n\\x93 Shield (see p. 19),\\nnormal monsters in numerical standee order.\\n\\x93 Suffer Damage (see p. 20)\\nTwo of the eight cards have a shuffle icon ( ) in the\\nbottom right corner. At the end of the round in which\\none of these cards is revealed, the discard pile of this\\ndeck is shuffled back into the draw pile.\\n2 A',\n",
       "  '\\uf086 Action (Top, Bottom) \\uf086 Ally\\nAn action is the entire half of a character ability card, A figure’s ally is another figure that is fighting on the\\nperformed as a whole. Usually, a character will perform same side of the battle. Generally, this means characters\\ntwo actions on their turn — the top action of one of their are allies of other characters and monsters are allies of\\nability cards and the bottom of the other. It is possible other monsters. A figure is not an ally of themselves.\\nto perform additional actions, either through items,\\npersistent bonuses, or other means. The Voidwarden can \\uf086 Area Effect\\nalso grant actions to other players during their turn. An\\naction may consist of multiple abilities, each separated An area effect depicts an area that can be targeted by an\\nby an ability card line. If any part of an action is an ability, typically an attack. The depiction will consist of\\nAttack ability, the action is considered an Attack action. red hexes, which show that figures in those hexes can\\nSimilarly, if any part of an action is a Move ability, the be targeted by the ability, following normal rules. If an\\naction is considered a Move action. area effect shows a grey hex, this is the hex the figure\\nperforming the ability must be in, and it is considered a\\n\\uf086 Activation Tokens non-ranged ability. If an area effect does not show a grey\\nhex, the ability will instead specify a range, making it a\\nActivation tokens are placed on door hexes to\\nranged ability. As long as one of the depicted red hexes is\\ndenote when they are opened, and can have\\nwithin the specified range, even if that hex does not have\\nother uses dictated by the special rules of\\na figure, all other depicted hexes are considered to be in\\nspecific scenarios.\\nrange. Any rotation or mirroring of the area effect is valid.\\n\\uf086 Active Area\\n\\uf086 Attack (Ability)\\nThe area above a character’s mat where all active\\nWhen any figure performs an Attack X ability,\\nbonuses from persistent abilities are kept track of.\\ntheir target(s) suffer a base X amount of damage. This\\nvalue (X) is modified by three steps: Any attack bonuses,\\n\\uf086 Adjacent\\none attack modifier card, and the target’s Shield value, if\\napplicable. Once X has been modified by all three steps,\\nTwo hexes are adjacent to each other if they share a\\nthe target then suffers damage equal to the modified\\nborder. Two figures in adjacent hexes are considered\\nvalue. The target is then subject to any conditions or\\nadjacent to one another. Two hexes separated by a wall\\nother effects that are also applied to the attack, even\\nline are not considered adjacent.\\nif the modified attack value is 0. If the target dies as a\\nresult of the damage suffered, conditions and forced\\n\\uf086 Advantage and Disadvantage\\nmovement are not applied, but any other relevant effect\\nIf any figure has Advantage on an attack, either through is still applied. An Attack ability may consist of multiple\\nstrengthen or some other means, they reveal two attacks, and, in such cases, a separate attack modifier\\ncards from their attack modifier deck and apply the card is applied for each target, and each target’s Shield\\nbest one. If any figure has Disadvantage on an attack, value is applied individually. A figure can never be\\neither through muddle, performing a ranged attack on attacked multiple times with the same ability. Figures\\nan adjacent target, or some other means, they reveal cannot attack their allies unless otherwise specified. Any\\ntwo cards and apply the worst one. An attack cannot target of an attack must be in line-of-sight of the attacker.\\nhave multiple instances of Advantage or Disadvantage,\\nand if an attack has both Advantage and Disadvantage, \\uf086 Attack Bonus\\nthe two effects cancel each other out. In the case of\\nDisadvantage where it is not clear which modifier card An attacker may receive various bonuses to their attack\\nis worse, because of effects other than numerical values, based on conditions specified by the ability or active\\napply the first card drawn. For Advantage, on the other bonus from previously played persistent abilities. They\\nhand, players can choose which card they prefer. also receive +1 Attack against a poisoned target.\\nA 3',\n",
       "  '\\uf086 Attack Modifier Card \\uf086 B (Level)\\nAny time a figure performs an attack, Character ability cards designated as level “B” are used\\nthey must draw a card from their to play the second and third scenarios in the campaign.\\nattack modifier deck and modify Two level “A” cards are replaced with level “B” cards at\\ntheir attack by what is depicted on the end of Scenario 1, and then all “A” and “B” cards are\\nthe card. Each character has their replaced by a character’s full hand of level “1” cards at\\nown individual deck of cards, and the end of Scenario 3.\\nthe monsters share a collective deck.\\nTypically, a card will have a numerical\\nvalue, and this value should be added to\\nthe current attack value. In the case of\\nupgraded cards added through perks, the card may also\\napply an additional effect, such as infusing an element Cards labeled “B”\\nat the end of the attacker’s turn, or applying a condition\\n\\uf086 Basic Action\\nto the target. If the card only has one of these effects in\\nthe center and no number, it is considered to be a “+0”, Any character ability card can be used to perform an\\nwhich means the attack value is not modified. “Attack 2” as a top action or a “Move 2” as a\\nbottom action, instead of performing any of the other\\nEach deck also has 2 special cards: which multiplies abilities printed on the top or bottom action of the card.\\nthe current attack value by 2, and “null” ( ), which The card will always then be discarded, regardless of\\nsets the attack value to 0. Each of these cards also what is printed in the action. No effects of the printed\\nhas a shuffle icon in the lower right action, such as experience gain or elemental infusion,\\ncorner, meaning that the discard pile are triggered.\\nmust be shuffled back into the deck at\\nthe end of the round. If any deck ever \\uf086 Battle Goal\\nruns out before the end of the round,\\n2x Card\\nshuffle it immediately. Additional Two battle goals are dealt at random to each character\\nand cards can be added to a deck at the start of each scenario. Each character will then\\nwith bless and curse, but these cards are choose one of these goals to keep for the scenario,\\ntemporary and removed from the deck discarding the other. It is encouraged that players not\\nafter being revealed, or at the end of the discuss what their battle goal is during the scenario. If\\nNull Card\\nscenario if they were not revealed. the scenario is successfully completed and the character\\nmeets the criteria of the chosen card, they will earn one\\ncheck mark, which is tracked on their character sheet. If\\nSpecial Cases\\nthe scenario is lost, the characters receive nothing from\\nAll adjacent enemies suffer 1 damage: their battle goals. Either way, the card is discarded, and a\\nEnemies adjacent to the target suffer new battle goal is chosen in the next scenario.\\nthis damage.\\n140\\n\\uf086 Bless\\nShield 1: The Red Guard gains\\nBless is a positive condition. When applied to\\nShield 1 for the rest of the round.\\na figure, it causes that figure to shuffle a Bless\\n282\\ncard into their attack modifier deck. This Bless\\nHeal 1 (Ally): Any one ally of the card functions like a card, doubling the current\\nVoidwarden within their line-of-sight can attack value when applied. Bless cards are removed from\\nbe healed. This always heals an ally of the a deck after being revealed, or at the end of the scenario\\nVoidwarden, even if drawn by a monster.\\nif they were not revealed.\\n206\\n4 A–B',\n",
       "  '\\uf086 Boss \\uf086 Campaign\\nA boss is a monster that is more powerful than a regular The campaign is the series of scenarios players play\\nmonster and not considered normal or elite. Bosses use through, following the story and progressing their\\na different type of stat card and the “Boss” monster characters via experience, money, and perks. The\\nability card deck. While this deck is the same for every campaign starts with Scenario 1 and ends with\\nboss, most cards in it cause the boss to perform special Scenario 17, though players can continue to play after\\nactions, which are unique to them and specified on the conclusion, so long as there are viable scenarios\\nthe right side of their stat card level section. If there is to play.\\nnot enough room in this section to explain the special\\nactions, they will be explained further in the Scenario \\uf086 Card Selection\\nBook. A boss’ hit points and possibly other stats are\\nscaled to the number of characters, specified by the Card selection is the first part of every round. Unless\\nletter “C”. exhausted or declaring a long rest, each character must\\nselect two cards from their hand to play, choosing one\\nBosses are immune to certain negative conditions, as of them to be their initiative card, which determines\\nspecified by condition icons on the left side of their stat when they will act in the round. Alternatively, if a\\ncard level section. If the boss is immune to curse, the character has at least two cards in their discard pile,\\ncondition cannot be applied to them, but Curse cards instead of selecting two cards, they can declare they\\nwill still affect their attack value when drawn. are performing a long rest. If, during card selection, a\\ncharacter cannot play two cards or declare a long rest,\\n\\uf086 Boss Specials they are immediately exhausted.\\nDescriptions of most boss special actions are written out \\uf086 Character\\nin specific sections of the Scenario Book labeled\\n“Boss Special 1” and “Boss Special 2”. This is done when a A character is the playable avatar of the player — either\\nboss’ special action is too complicated to define on their the Red Guard, Demolitionist, Hatchet, or Voidwarden.\\nstat card. Each character has their own set of cards and materials,\\nincluding a plastic miniature, character mat, and\\nBoss Special 1\\ncharacter sheet, which allows a player to play through\\nthe campaign with that character from start to finish.\\nWhen an ability references a character, it is referencing\\n\\uf086 C one of these playable figures that is currently on the\\nscenario map.\\nThe letter “C” is the shorthand for the number of\\ncharacters that start the scenario. It is used in equations \\uf086 Character Mat\\nto determine various stats, including the maximum hit\\npoint value of bosses and many objectives. If a character A cardboard mat that provides\\nbecomes exhausted during the scenario, they are still artwork and a description for\\nfactored in when determining “C”. each individual character. There\\nActive\\nare areas of the character mat 9\\nt l v t i o h a m a l p u t i l t e a s , c p t a e h e t c e d e i i a i f r s y c c m h a t h a r le d e x v e i c e m d h l , , a u a a r m c n a t d c i h v t w e e it r , h ’ a p s e n o h r d i e a n n t d dracsiD otrobtptE QcantoTt B Tt h h h e h o o u h fa n a f v u h h u ce e e e c t t a e y h s m i bky e ae o hy i a i k n o n t r r r a oo i c t uu s , m e f tr m c l r v a o nm o i Q o r gd r tr y n el i w u w i i e c h o t h e a o n y c l n b u i s d a u y ’ a h e n t a n f e s t a s e g a t o e t i h s e t p t g w, h b s o t re , er c y, o n e r , a p e ff e i m a g w r i y f Q t d o r t c r e d r n er h ls h l t a r e e t o uo a e a a s u r u m i d h e y l . n c u v a t c c i e a t a w m S . e i p uc eh e s t o a go t r g i r o a t h . ft i l r l e m s r n i a . h a l u a h l t m y F e y a l, ep d s r e e B le e l l t s n r sD s ve t o l i x i p i fi n a o t e dp t i m r c et i p o e ffi om t t n c i d e l a . s i wpm e m n l e a s i m g n . e l n n x s i r d n s e e s a I s g e o it u p i e o n t s e r b t n t s t l r o a t t s e Q e n y o i l oi r i t t t e s n n ar t ev a h h e i tu y u t m o s o t ea o w a l n e i e h a i c l fi n s a r rb l o m g s a et h i o .e e y l n s i t or i w y t n k s i n t h z O s h y y u r i c t s i e g e e l n a l s n t t . a , t c n y si , lh r h g l t n s h v m d t l o Q c i p Te e i e i e y h e f e oan n r c g , em as a h s u e e i rnk g , r a t t t n r m y a o a e h h e’ ia i t ti c t y w n t u t a f t t n o e h r a f l o a e s a y g d e io y i g y b a l r o bi s t n h t r i e l t h e t fi o l a a fi u ff s h w d b t r s o e n r h e i e w e f e a t t a l e l a fl t m l e d r a a h d m d s s do r n e e a L t o t n s f e t e , , d m u a s n a o l d i s n h y d j t m r c l e l r t ui t a h . a c o d l sh sc h a l s s n T u o ce v l m a e u t i u i e t d h s y ed u nn h l r h y g b t h t a se t i e r e ti o o m sj t n o tu t n h ah s e h e h u i u o e g n n n e n g c a e e e e n g bd r e m t e o v n to e m i i h y e s ee o a d r t e r f r tt . .\\nlost cards. There is also an area\\nto store all of the character’s\\nConditions\\ncurrent conditions. 1 8 2 9 3 11 4 12 5 14 6 15 Item 7 17 s 8 182 9 0\\nB–C 5',\n",
       "  '\\uf086 Character Sheet \\uf086 Conclusion\\nThe character sheet is where players can keep track of Conclusions of a scenario are specific section of text\\nall information related to their character. There is space providing a thematic wrap-up of the events of a scenario.\\nto track the character’s name, level, experience points, It is meant to be read only once the scenario has been\\ngold, items, perks, check marks, and anything else of note. successfully completed.\\nEach character box contains a pad of character sheets,\\nso that characters can be played in multiple campaigns. \\uf086 Condition (Ability)\\nWhen any figure performs a condition ability, the\\n\\uf086 Character Token\\ntarget(s) gain that condition without an accompanying\\nCharacter tokens are used to track specific ability attack. A figure can only target enemies with negative\\neffects and, more commonly, the number of uses on conditions and allies with positive conditions unless\\npersistent abilities. If it would help a player to keep track otherwise specified. If no range is specified, the target\\nof something by placing a character token as a reminder, must be adjacent to the figure. Any target of the ability\\nthey are encouraged to do so. must be in line-of-sight of the figure using the ability.\\n\\uf086 Condition\\nConditions are effects applied to a figure that will change\\nHatchet Red Guard Demolitionist Voidwarden\\nsome nature of how they function. The effects of a\\ncondition, apart from bless and curse, are signified by\\n\\uf086 Check Mark placing that condition’s token either on the character’s\\nmat or on the monster’s stat envelope section. Most\\nCheck marks ( ) are earned by a character when they conditions, once applied, will remain on the figure\\nachieve a battle goal while also successfully completing until the end of their next turn, which could be the\\na scenario. Check marks can also be earned through current round or the following round if the condition\\ncertain scenario rewards. was applied on or after the target’s turn in the current\\nround. Two conditions — poison and wound — are\\nCheck marks are tracked near the bottom right of a only removed when the figure is healed, and two other\\ncharacter sheet. For every three check marks a character conditions — bless and curse — shuffle cards into the\\nearns, they earn one perk, up to a maximum of six perks figure’s attack modifier deck and are only removed once\\nfor 18 check marks. these cards are revealed from the deck. All conditions\\nare always removed at the end of every scenario. The\\n\\uf086 City Map Board following are the different conditions:\\nThe city map board is a large board depicting a map of Bless (see p. 4)\\nGloomhaven. Its primary function is to communicate to Curse (see p. 7)\\nplayers visually what scenarios have been completed and\\nDisarm (see p. 7)\\nwhich ones are still available.\\nImmobilize (see p. 11)\\nAny time a scenario is unlocked, players should find\\nMuddle (see p. 15)\\nthe corresponding sticker and place it in the specified\\nmap sector so that the art along the edge of the sticker Poison (see p. 16)\\nmatches with the art on the map. When a scenario Strengthen (see p. 20)\\nis successfully completed or closed through outside\\nStun (see p. 20)\\noccurrences, players should mark the box on the sticker\\nof the scenario to show it is no longer available. Wound (see p. 21)\\n6 C',\n",
       "  '\\uf086 Curse \\uf086 Dial\\nCurse is a negative condition. When applied Characters have a dial to track their current hit point\\nto a figure, it causes that figure to shuffle a value on the red side and their accumulated experience\\nCurse card into their attack modifier deck. for the scenario on the blue side. At the start of each\\nThis Curse card functions like a card, setting the scenario, the hit point dial is set to the character’s\\nfinal attack value to 0 when applied. Curse cards are maximum hit point value for their current level and\\nremoved from a deck after being the experience dial is set to 0. As these numbers change\\nrevealed, or at the end of the throughout the scenario, players should rotate the dials\\nscenario if they were not revealed. to reflect their current situation.\\n\\uf086 Damage Curse Card \\uf086 Difficult Terrain\\nAny time a figure suffers damage, their current hit Difficult terrain hexes are surrounded\\npoint value is reduced by that amount. In the case of by a purple border on the scenario map.\\nmonsters, the damage suffered is added to their stat Each movement into a difficult terrain\\nenvelope section. In the case of characters, their hit point hex requires spending 2 movement\\ndial is rotated, decreasing their current hit point value. points. This extra movement is also taken\\ninto consideration when determining monster focus.\\nIf a character’s current hit point value ever reaches 0 or Movements from push and pull are not affected by\\nlower, they become exhausted. If a monster’s current hit difficult terrain, nor are movements modified by Jump.\\npoint value ever reaches 0 or lower, they are killed.\\n\\uf086 Difficulty\\n\\uf086 Destroy Obstacle (Ability)\\nThe level of any scenario can be adjusted away from\\nWhen any figure destroys an obstacle, place one its default, or “normal”, value (average character level\\ndestruction token in each hex that obstacle occupied. divided by 2 and rounded up) to experience the scenario\\nAn obstacle hex containing a destruction token is on a different difficulty. If the default level is reduced\\nconsidered empty and can be entered normally. If an by one, the scenario is considered to be set to “easy”\\nobstacle consists of multiple hexes, only one hex of the difficulty. Increasing the level by one results in a “hard”\\nobstacle needs to be within range of the ability and in difficulty, and increasing the level by two results in\\nline-of-sight of the figure using the ability for the whole “very hard”.\\nobstacle to be destroyed.\\nThe challenge of the scenario mainly changes because\\n\\uf086 Destruction Tokens the monsters’ stat levels are equal to the scenario level,\\nsuch that increasing the scenario level increases the stats\\nDestruction tokens are placed on the scenario map any\\nof the monsters. The difficulty, and thus the scenario\\ntime an obstacle or objective is destroyed, showing that\\nlevel, also affects the trap damage, the conversion rate\\nthe hex is now considered empty and can be entered\\nof money tokens, and the bonus experience value for\\nnormally. If an obstacle is destroyed, a destruction token\\ncompleting a scenario.\\nis placed on every hex of the obstacle enclosed by its\\ngreen border.\\n\\uf086 Disarm\\nDisarm is a negative condition. When applied\\nto a figure, it prevents them from being able\\nto perform any Attack abilities. Disarm is\\nremoved from a figure at the end of their next full turn.\\nC–D 7',\n",
       "  '\\uf086 Discard Pile \\uf086 Elements\\nThe discard pile is the area cards go once they are Elements, governed by the elemental board, provide\\nresolved and discarded. The discard pile of an attack a combo system to enhance specific abilities. If any of\\nmodifier deck or a monster ability card deck are shuffled these six element icons is visible by itself in an action’s\\nback their respective decks at the end of a round when text, it means that by performing any part of that\\nany card with a shuffle icon in the lower right corner is action, the figure must infuse that element by moving its\\nrevealed. In the context of character cards, the discard token to the “Strong” column of the board. This always\\npile is a specific pile of cards that are used but can be happens at the end of the turn in which the action was\\nreturned to the character’s hand by resting. used. At the end of every round, all elemental infusions\\nwill wane, moving one column to the left on the board,\\n\\uf086 Door from “Strong” to “Waning” or from “Waning” to “Inert”.\\nDoor hexes are surrounded by a blue\\nborder on the scenario map. A single\\nborder contains a single door, which\\nmay make up more than one hex. Doors\\nFire Ice Air Earth Light Dark\\nseparate different rooms in a scenario.\\nOnly the monsters in the room the characters start in\\nare set up at the beginning of a scenario. A character can Elemental infusions can be used to augment certain\\nmove onto a door hex as part of any normal movement, abilities, which is represented by an element icon\\nand the door is opened when they do so for the first covered with a . This is followed by a colon and\\ntime. At that time, an activate token is placed on the a description of how the ability is augmented if the\\ndoor, and all monsters in the room on the other side element is consumed. If the corresponding element’s\\nof the door are set up. This is called revealing a room, token is in the “Strong” or “Waning” column of the\\nand after this happens, the character immediately element board, that element may be consumed to\\nresumes their turn, which includes using any remaining augment the ability by moving it to the “Inert” column\\nmovement value they may have from the move ability of the board. It is not possible to infuse an element and\\nthat opened the door. then use it on the same turn, since the element isn’t\\ninfused until the end of a turn.\\nUntil a door is opened, it is considered a wall for the\\npurposes of line-of-sight and monster movement. After it In the case of monsters, they will always consume\\nis opened, it is considered an empty hex. Door hexes are elements if they can, and each activated monster of that\\nnot considered to be in either room they are adjacent to. set will gain the benefit of the consumed element, not\\njust the first monster that acts.\\n\\uf086 Dot\\nThe multi-colored icon is a wild icon\\nSome abilities on character ability cards have small dots representing any one of the six elements.\\nnext to them. These should be ignored, as they serve no If this icon is present on a monster action\\npurpose in this game. They are only present so that the Wild card, the players choose which element is\\ncharacters in this game are compatible with the larger infused or, in the case of an accompanying , which\\nGloomhaven game. element is consumed.\\n\\uf086 Dotted Line\\nAbility card lines separate individual abilities within an\\naction on an ability card.\\n8 D–E',\n",
       "  '\\uf086 Elite (Monster) \\uf086 Event\\nWhen setting up a scenario or revealing a room, elite After each scenario that is successfully completed,\\nmonsters are set up where the icon row corresponding players will resolve an event. This is done by drawing\\nto the number of characters is gold. Elite monsters are the top card of the deck and reading the introductory\\nplaced in gold stands to show their rank. They use the text on the front. The characters must then make\\ngold right side of a stat card to determine their stats a collective choice between “Option A” and “Option\\nand are approximately twice as powerful as a normal B”. Sometimes options are only available if specific\\nmonster of the same set. characters are in play. Once the\\nchoice is made, the card is flipped\\n\\uf086 Empty Hex and the option chosen is read. All effects specified by the option A hex is empty if it has no figure, obstacle, objective, must be applied. If characters\\ntrap, or difficult terrain in it. Destroyed obstacles, are instructed to lose gold and objectives, and open doors are all considered empty do not have enough, they just\\nhexes unless the hex has a figure or trap in it. lose what they have. After an\\nevent is resolved, it is removed\\n03\\n\\uf086 End of Round from the game.\\nEnd of round is the last part of every round. Shuffle \\uf086 Exhaustion\\nthe discard pile of any attack modifier deck or monster\\nability card deck that revealed a card with the shuffle A character becomes exhausted when either their\\nicon during the round back into their respective deck. current hit point value is reduced to 0 or lower, or they\\nIn addition, all element tokens on the elemental board are unable to play two cards or declare a long rest during\\nare moved down one step, from “Strong” to “Waning” card selection at the beginning of a round. In either\\nor from “Waning” to “Inert”. Characters also have the case, exhaustion takes effect immediately and their\\noption of short resting if they have at least two ability figure is removed from the map. They can no longer\\ncards in their discard pile. If the end of the scenario participate in the scenario in any way. If all characters\\nwas triggered during the round, the end of round is also are exhausted, the scenario is lost.\\nwhen the scenario would officially end.\\n\\uf086 Experience\\n\\uf086 End‑of‑Turn Looting\\nSome actions have an experience value\\nAt the end of each character’s turn, they automatically attached to them. When at least some part of\\nloot the hex they are in, placing any money tokens on that action is performed, the character gains\\ntheir character mat and resolving any treasure tiles. the number of experience specified. Experience gained\\nduring a scenario is tracked by increasing the experience\\n\\uf086 Enemy value on the right side of a character’s dial. If the action\\nspecifies the experience is earned only through specific\\nA figure’s enemy is another figure that is fighting on conditions written out in text, then that text must be\\nthe opposite side of the battle. Generally, this means satisfied to receive the experience. Experience is also\\ncharacters are enemies of monsters, and monsters are gained when a character token moves off of a use slot\\nenemies of characters. “Enemy” does not universally with an experience icon in a persistent ability.\\nrefer to monsters but, rather, is defined by the context\\nof the card. For instance, if “enemy” is referenced on a\\nmonster ability card, it is referring to an enemy of\\nthe monster.\\nE 9\\neht evah I ,wonk uoy evah ll’I“ eH !eramyerG namlicnuoC fo rae eht raeh ot detseretni etiuq eb dluow rof gnigrahc er’uoy secirp suoegartuo -kciht uoy —uoY !evitimirP !gniroliat enituor nam dedraeb ,trohs A ”!nairabrab delluks roliat a fo tuo sklaw eh sa gnituohs seunitnoc .sehtolc nwo ym meh ll’I“ .tcirtsiD dexiM eht ni edam ev’uoy fi tlucffiid taht eb t’nac ylniatrec tI ”!ti fo ssenisub a\\nsih revo spirt yltpmorp dna snrut eh ,taht htiW saw eh skoob dnuob-rehtael eht gnihsad ,sebo r tsael tA .teerts enotselbboc eht revo lla gniyrrac ...gnitseretni skool meht fo eno\\nOption A: Help him gather his scattered books.\\nO th p e t c io o n nf B us : i G on ra . b the most interesting volume in',\n",
       "  '\\uf086 Figure \\uf086 Gold\\nAll monsters and characters — anything that takes a Gold is the currency characters use to buy\\nturn in a round — are considered figures. items from the shop in between scenarios.\\nCollecting money tokens during a scenario\\n\\uf086 Focus is the main source of gold. Each money\\ntoken collected is converted into an amount of gold\\nAt the start of any monster’s turn, regardless of what based on scenario level. Characters may also gain or lose\\nthe monster is doing, the monster will find a focus. gold through scenario and event outcomes.\\nThe monster’s focus will be the enemy it can get in\\nrange to attack using the least amount of movement. If When characters buy an item, they lose the cost of\\nmultiple enemies can be reached in the same amount the item in gold. When they sell an item, they gain\\nof movement, the monster focuses on the tied enemy half (rounded up) the cost of the item. All gold should\\nearliest in the initiative order. Finding a focus is not be tracked on a character’s sheet. Gold cannot be\\ndependent on line-of-sight or whether the monster can transferred between characters.\\nactually get in range to attack an enemy this turn.\\n\\uf086 Grant Action (Ability)\\nIf a monster is performing a ranged attack, it will\\nconsider this range when determining where it can When any figure grants an action to another figure, the\\nattack from. Otherwise, even if it is not performing initial text specifies who the ability is granted to, and\\nan attack at all, it will focus on the enemy it can get then the granted ability is detailed, where all normal\\nadjacent to in the least amount of movement. When rules of performing actions are applied. The figure\\ndetermining what is the least amount of movement, the being granted the action must be in line-of-sight of the\\nmonster will find a path that goes through the fewest granter. If the action is granted to an enemy, the enemy\\nnumber of traps possible, even if that lengthens the path must perform the action, and the granter decides how it\\nconsiderably. Monsters also factor in the extra cost of is performed. If the action is granted to an ally, it is the\\nentering difficult terrain when finding their path. ally’s choice if and how they use the action. If any figure\\nis granted an Attack action, the figure uses their own\\nIf a monster is able to attack multiple targets on its turn, attack modifier deck. A figure granted an action does\\nit will first find its primary focus as normal, and then not take another turn — they are performing an action\\nfind additional foci for these extra attacks. It does so by on the granter’s turn. If any one ability grants multiple\\nlooking for a path to the closest hex from which it can figures an action, each of those figures performs a\\nattack its primary focus and as many other targets as its separate action.\\nAttack action allows.\\n\\uf086 Hand\\nIt is possible a monster fails to find a focus because there\\nare no valid hexes it can move to in order to attack any A character’s hand of cards is those which they\\nenemy. In this case, the monster does not move or attack can select to play at the start of each round.\\non its turn. A character’s hand limit — the number of\\ncards a character can start the scenario\\n\\uf086 Goal with in their hand — is determined by\\nthe number in the top right of their\\nThe goal of a scenario is what specifically needs to be character mat. As soon as a card is\\naccomplished in order for the scenario to be considered selected during card selection, it is no\\nsuccessfully completed. Once the goal is achieved, the longer in a character’s hand. The main\\nscenario will end in success at the end of the round, way cards are returned to a character’s\\nunless all characters were exhausted after completing hand is when discarded cards are returned\\nthe goal (in which case, the scenario is still lost). through resting.\\n10 F–H'],\n",
       " 'uris': None,\n",
       " 'included': ['metadatas', 'documents', 'embeddings'],\n",
       " 'data': None,\n",
       " 'metadatas': [{'source': 'data/gloomhaven_jotl_glossary.pdf', 'page': 0},\n",
       "  {'source': 'data/gloomhaven_jotl_glossary.pdf', 'page': 1},\n",
       "  {'source': 'data/gloomhaven_jotl_glossary.pdf', 'page': 2},\n",
       "  {'source': 'data/gloomhaven_jotl_glossary.pdf', 'page': 3},\n",
       "  {'page': 4, 'source': 'data/gloomhaven_jotl_glossary.pdf'},\n",
       "  {'source': 'data/gloomhaven_jotl_glossary.pdf', 'page': 5},\n",
       "  {'source': 'data/gloomhaven_jotl_glossary.pdf', 'page': 6},\n",
       "  {'page': 7, 'source': 'data/gloomhaven_jotl_glossary.pdf'},\n",
       "  {'page': 8, 'source': 'data/gloomhaven_jotl_glossary.pdf'},\n",
       "  {'page': 9, 'source': 'data/gloomhaven_jotl_glossary.pdf'}]}"
      ]
     },
     "execution_count": 10,
     "metadata": {},
     "output_type": "execute_result"
    }
   ],
   "source": [
    "collection.peek()"
   ]
  },
  {
   "cell_type": "code",
   "execution_count": 11,
   "metadata": {},
   "outputs": [
    {
     "data": {
      "text/plain": [
       "32"
      ]
     },
     "execution_count": 11,
     "metadata": {},
     "output_type": "execute_result"
    }
   ],
   "source": [
    "collection.count()"
   ]
  }
 ],
 "metadata": {
  "kernelspec": {
   "display_name": ".venv",
   "language": "python",
   "name": "python3"
  },
  "language_info": {
   "codemirror_mode": {
    "name": "ipython",
    "version": 3
   },
   "file_extension": ".py",
   "mimetype": "text/x-python",
   "name": "python",
   "nbconvert_exporter": "python",
   "pygments_lexer": "ipython3",
   "version": "3.10.14"
  }
 },
 "nbformat": 4,
 "nbformat_minor": 2
}
